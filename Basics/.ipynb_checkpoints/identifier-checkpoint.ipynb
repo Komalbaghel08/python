{
 "cells": [
  {
   "cell_type": "raw",
   "id": "f710aa18-3042-4330-82f1-bfd11d857471",
   "metadata": {},
   "source": [
    "1. Do not start with digit (0-9)"
   ]
  },
  {
   "cell_type": "code",
   "execution_count": 1,
   "id": "71440c0f-4034-4020-b9ff-4ce13a536a7c",
   "metadata": {},
   "outputs": [
    {
     "ename": "SyntaxError",
     "evalue": "invalid decimal literal (1037129474.py, line 1)",
     "output_type": "error",
     "traceback": [
      "\u001b[1;36m  Cell \u001b[1;32mIn[1], line 1\u001b[1;36m\u001b[0m\n\u001b[1;33m    1x = 10\u001b[0m\n\u001b[1;37m    ^\u001b[0m\n\u001b[1;31mSyntaxError\u001b[0m\u001b[1;31m:\u001b[0m invalid decimal literal\n"
     ]
    }
   ],
   "source": [
    "1x = 10 \n",
    "print(1x)\n"
   ]
  },
  {
   "cell_type": "code",
   "execution_count": 2,
   "id": "e7913b1a-e7e2-4374-99be-791c6d4ce8a2",
   "metadata": {},
   "outputs": [
    {
     "ename": "SyntaxError",
     "evalue": "cannot assign to expression here. Maybe you meant '==' instead of '='? (4254051462.py, line 3)",
     "output_type": "error",
     "traceback": [
      "\u001b[1;36m  Cell \u001b[1;32mIn[2], line 3\u001b[1;36m\u001b[0m\n\u001b[1;33m    -x=30\u001b[0m\n\u001b[1;37m    ^\u001b[0m\n\u001b[1;31mSyntaxError\u001b[0m\u001b[1;31m:\u001b[0m cannot assign to expression here. Maybe you meant '==' instead of '='?\n"
     ]
    }
   ],
   "source": [
    "x=10\n",
    "X=20\n",
    "-x=30\n",
    "print(x,X,-x)"
   ]
  },
  {
   "cell_type": "code",
   "execution_count": 3,
   "id": "67956011-39ef-4b5d-9513-d537d67cfa8a",
   "metadata": {},
   "outputs": [
    {
     "ename": "SyntaxError",
     "evalue": "cannot assign to expression here. Maybe you meant '==' instead of '='? (3594677254.py, line 1)",
     "output_type": "error",
     "traceback": [
      "\u001b[1;36m  Cell \u001b[1;32mIn[3], line 1\u001b[1;36m\u001b[0m\n\u001b[1;33m    -x=10\u001b[0m\n\u001b[1;37m    ^\u001b[0m\n\u001b[1;31mSyntaxError\u001b[0m\u001b[1;31m:\u001b[0m cannot assign to expression here. Maybe you meant '==' instead of '='?\n"
     ]
    }
   ],
   "source": [
    "-x=10\n",
    "print(-x)"
   ]
  },
  {
   "cell_type": "code",
   "execution_count": 4,
   "id": "e3ebe22d-5485-4930-89ba-568eb9a2fed7",
   "metadata": {},
   "outputs": [
    {
     "name": "stdout",
     "output_type": "stream",
     "text": [
      "10 20\n"
     ]
    }
   ],
   "source": [
    "x=10\n",
    "X=20\n",
    "print(x,X)"
   ]
  },
  {
   "cell_type": "code",
   "execution_count": null,
   "id": "3ff89062-b026-47a9-aea9-bbe746deeb76",
   "metadata": {},
   "outputs": [],
   "source": []
  }
 ],
 "metadata": {
  "kernelspec": {
   "display_name": "Python 3 (ipykernel)",
   "language": "python",
   "name": "python3"
  },
  "language_info": {
   "codemirror_mode": {
    "name": "ipython",
    "version": 3
   },
   "file_extension": ".py",
   "mimetype": "text/x-python",
   "name": "python",
   "nbconvert_exporter": "python",
   "pygments_lexer": "ipython3",
   "version": "3.12.7"
  }
 },
 "nbformat": 4,
 "nbformat_minor": 5
}
