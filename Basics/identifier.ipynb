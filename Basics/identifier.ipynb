{
 "cells": [
  {
   "cell_type": "raw",
   "id": "f710aa18-3042-4330-82f1-bfd11d857471",
   "metadata": {},
   "source": [
    "1. Do not start with digit (0-9)"
   ]
  },
  {
   "cell_type": "code",
   "execution_count": null,
   "id": "71440c0f-4034-4020-b9ff-4ce13a536a7c",
   "metadata": {},
   "outputs": [
    {
     "ename": "SyntaxError",
     "evalue": "invalid decimal literal (1037129474.py, line 1)",
     "output_type": "error",
     "traceback": [
      "\u001b[1;36m  Cell \u001b[1;32mIn[1], line 1\u001b[1;36m\u001b[0m\n\u001b[1;33m    1x = 10\u001b[0m\n\u001b[1;37m    ^\u001b[0m\n\u001b[1;31mSyntaxError\u001b[0m\u001b[1;31m:\u001b[0m invalid decimal literal\n"
     ]
    }
   ],
   "source": [
    "1x = 10 \n",
    "print(1x)\n"
   ]
  },
  {
   "cell_type": "code",
   "execution_count": null,
   "id": "e7913b1a-e7e2-4374-99be-791c6d4ce8a2",
   "metadata": {},
   "outputs": [
    {
     "ename": "SyntaxError",
     "evalue": "cannot assign to expression here. Maybe you meant '==' instead of '='? (4254051462.py, line 3)",
     "output_type": "error",
     "traceback": [
      "\u001b[1;36m  Cell \u001b[1;32mIn[2], line 3\u001b[1;36m\u001b[0m\n\u001b[1;33m    -x=30\u001b[0m\n\u001b[1;37m    ^\u001b[0m\n\u001b[1;31mSyntaxError\u001b[0m\u001b[1;31m:\u001b[0m cannot assign to expression here. Maybe you meant '==' instead of '='?\n"
     ]
    }
   ],
   "source": [
    "x=10\n",
    "X=20\n",
    "-x=30\n",
    "print(x,X,-x)"
   ]
  },
  {
   "cell_type": "code",
   "execution_count": null,
   "id": "67956011-39ef-4b5d-9513-d537d67cfa8a",
   "metadata": {},
   "outputs": [
    {
     "ename": "SyntaxError",
     "evalue": "cannot assign to expression here. Maybe you meant '==' instead of '='? (3594677254.py, line 1)",
     "output_type": "error",
     "traceback": [
      "\u001b[1;36m  Cell \u001b[1;32mIn[3], line 1\u001b[1;36m\u001b[0m\n\u001b[1;33m    -x=10\u001b[0m\n\u001b[1;37m    ^\u001b[0m\n\u001b[1;31mSyntaxError\u001b[0m\u001b[1;31m:\u001b[0m cannot assign to expression here. Maybe you meant '==' instead of '='?\n"
     ]
    }
   ],
   "source": [
    "-x=10\n",
    "print(-x)"
   ]
  },
  {
   "cell_type": "code",
   "execution_count": null,
   "id": "e3ebe22d-5485-4930-89ba-568eb9a2fed7",
   "metadata": {},
   "outputs": [
    {
     "name": "stdout",
     "output_type": "stream",
     "text": [
      "10 20\n"
     ]
    }
   ],
   "source": [
    "x=10\n",
    "X=20\n",
    "print(x,X)"
   ]
  },
  {
   "cell_type": "markdown",
   "id": "211c1472-8841-49da-b05b-7b167b0e146f",
   "metadata": {},
   "source": [
    "# type of literals"
   ]
  },
  {
   "cell_type": "markdown",
   "id": "db6747d0-045e-420f-9044-4a593ccd9a48",
   "metadata": {},
   "source": [
    "# 1 numeric\n"
   ]
  },
  {
   "cell_type": "code",
   "execution_count": null,
   "id": "f01aeb4d-449c-4329-a196-f57d3360a0c2",
   "metadata": {},
   "outputs": [
    {
     "ename": "NameError",
     "evalue": "name 'a' is not defined",
     "output_type": "error",
     "traceback": [
      "\u001b[1;31m---------------------------------------------------------------------------\u001b[0m",
      "\u001b[1;31mNameError\u001b[0m                                 Traceback (most recent call last)",
      "Cell \u001b[1;32mIn[5], line 1\u001b[0m\n\u001b[1;32m----> 1\u001b[0m a\u001b[38;5;241m.\u001b[39m Integer\n\u001b[0;32m      2\u001b[0m b\u001b[38;5;241m.\u001b[39m \u001b[38;5;28mfloat\u001b[39m\n\u001b[0;32m      3\u001b[0m c\u001b[38;5;241m.\u001b[39m \u001b[38;5;28mcomplex\u001b[39m\n",
      "\u001b[1;31mNameError\u001b[0m: name 'a' is not defined"
     ]
    }
   ],
   "source": [
    "a. Integer\n",
    "b. float\n",
    "c. complex"
   ]
  },
  {
   "cell_type": "code",
   "execution_count": null,
   "id": "f44f5aa4-2ec5-4bc8-9ae7-de5bb24ff42b",
   "metadata": {},
   "outputs": [],
   "source": [
    "x=10\n",
    "print(type(x))"
   ]
  }
 ],
 "metadata": {
  "kernelspec": {
   "display_name": "Python 3 (ipykernel)",
   "language": "python",
   "name": "python3"
  },
  "language_info": {
   "codemirror_mode": {
    "name": "ipython",
    "version": 3
   },
   "file_extension": ".py",
   "mimetype": "text/x-python",
   "name": "python",
   "nbconvert_exporter": "python",
   "pygments_lexer": "ipython3",
   "version": "3.12.7"
  }
 },
 "nbformat": 4,
 "nbformat_minor": 5
}
